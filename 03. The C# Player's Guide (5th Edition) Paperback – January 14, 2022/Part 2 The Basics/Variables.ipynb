{
 "cells": [
  {
   "cell_type": "markdown",
   "metadata": {},
   "source": [
    "# In a Nutshell\n",
    "- You can think of variables as boxes that store information.\n",
    "- A variable has a name, a type, and a value that is contained in it.\n",
    "- You declare (create) a variable by stating the type and name: int number;\n",
    "- You can assign values to a variable with the assignment operator (’=’): number = 14;\n",
    "- When you declare a variable, you can initialize it as well: int number = 14;\n",
    "- You can retrieve the value of a variable simply by using the variable’s name in your code:"
   ]
  },
  {
   "cell_type": "code",
   "execution_count": null,
   "metadata": {
    "vscode": {
     "languageId": "csharp"
    }
   },
   "outputs": [],
   "source": [
    "Console.WriteLine(number);"
   ]
  },
  {
   "cell_type": "markdown",
   "metadata": {},
   "source": [
    "- This chapter also gives guidelines for good variable names."
   ]
  }
 ],
 "metadata": {
  "language_info": {
   "name": "python"
  },
  "orig_nbformat": 4
 },
 "nbformat": 4,
 "nbformat_minor": 2
}
